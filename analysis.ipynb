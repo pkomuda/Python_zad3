{
 "cells": [
  {
   "cell_type": "markdown",
   "metadata": {},
   "source": [
    "# Zadanie 3\n"
   ]
  },
  {
   "cell_type": "markdown",
   "metadata": {},
   "source": [
    "**Jakub Bogdan 216728  \n",
    "Przemysław Komuda 216802**"
   ]
  },
  {
   "cell_type": "code",
   "execution_count": 1,
   "metadata": {},
   "outputs": [],
   "source": [
    "import pandas as pd\n",
    "import matplotlib.pyplot as plt\n",
    "from IPython.display import display, HTML"
   ]
  },
  {
   "cell_type": "code",
   "execution_count": 2,
   "metadata": {},
   "outputs": [],
   "source": [
    "def print_table(dataframe):\n",
    "    display(HTML(dataframe.to_html()))\n",
    "\n",
    "iris = pd.read_csv(\"iris.data\", names=['sepal_length', 'sepal_width', 'petal_length', 'petal_width', 'class'])"
   ]
  },
  {
   "cell_type": "markdown",
   "metadata": {},
   "source": [
    "**Tabela następujących wartości dla cech ilościowych: średnia arytmetyczna, odchylenie standardowe, mediana, minimum oraz maksimum**"
   ]
  },
  {
   "cell_type": "code",
   "execution_count": 3,
   "metadata": {},
   "outputs": [
    {
     "data": {
      "text/html": [
       "<table border=\"1\" class=\"dataframe\">\n",
       "  <thead>\n",
       "    <tr style=\"text-align: right;\">\n",
       "      <th></th>\n",
       "      <th>mean</th>\n",
       "      <th>standard_deviation</th>\n",
       "      <th>minimum</th>\n",
       "      <th>median</th>\n",
       "      <th>maximum</th>\n",
       "    </tr>\n",
       "  </thead>\n",
       "  <tbody>\n",
       "    <tr>\n",
       "      <th>sepal_length</th>\n",
       "      <td>5.843</td>\n",
       "      <td>0.828</td>\n",
       "      <td>4.3</td>\n",
       "      <td>5.80</td>\n",
       "      <td>7.9</td>\n",
       "    </tr>\n",
       "    <tr>\n",
       "      <th>sepal_width</th>\n",
       "      <td>3.054</td>\n",
       "      <td>0.434</td>\n",
       "      <td>2</td>\n",
       "      <td>3.00</td>\n",
       "      <td>4.4</td>\n",
       "    </tr>\n",
       "    <tr>\n",
       "      <th>petal_length</th>\n",
       "      <td>3.759</td>\n",
       "      <td>1.764</td>\n",
       "      <td>1</td>\n",
       "      <td>4.35</td>\n",
       "      <td>6.9</td>\n",
       "    </tr>\n",
       "    <tr>\n",
       "      <th>petal_width</th>\n",
       "      <td>1.199</td>\n",
       "      <td>0.763</td>\n",
       "      <td>0.1</td>\n",
       "      <td>1.30</td>\n",
       "      <td>2.5</td>\n",
       "    </tr>\n",
       "  </tbody>\n",
       "</table>"
      ],
      "text/plain": [
       "<IPython.core.display.HTML object>"
      ]
     },
     "metadata": {},
     "output_type": "display_data"
    }
   ],
   "source": [
    "quantity = pd.DataFrame(iris.mean().round(3), columns=['mean'])\n",
    "quantity['standard_deviation'] = iris.std().round(3)\n",
    "quantity['minimum'] = iris.min()\n",
    "quantity['median'] = iris.median()\n",
    "quantity['maximum'] = iris.max()\n",
    "\n",
    "print_table(quantity)"
   ]
  },
  {
   "cell_type": "markdown",
   "metadata": {},
   "source": [
    "**Tabela następujących wartości dla cech jakościowych: liczebność oraz częstość (nie ma dominanty, ponieważ liczebność wszystkich klas jest taka sama)**"
   ]
  },
  {
   "cell_type": "code",
   "execution_count": 4,
   "metadata": {},
   "outputs": [
    {
     "data": {
      "text/html": [
       "<table border=\"1\" class=\"dataframe\">\n",
       "  <thead>\n",
       "    <tr style=\"text-align: right;\">\n",
       "      <th></th>\n",
       "      <th>amount</th>\n",
       "      <th>frequency</th>\n",
       "    </tr>\n",
       "  </thead>\n",
       "  <tbody>\n",
       "    <tr>\n",
       "      <th>setosa</th>\n",
       "      <td>50.0</td>\n",
       "      <td>0.33</td>\n",
       "    </tr>\n",
       "    <tr>\n",
       "      <th>versicolor</th>\n",
       "      <td>50.0</td>\n",
       "      <td>0.33</td>\n",
       "    </tr>\n",
       "    <tr>\n",
       "      <th>virginica</th>\n",
       "      <td>50.0</td>\n",
       "      <td>0.33</td>\n",
       "    </tr>\n",
       "  </tbody>\n",
       "</table>"
      ],
      "text/plain": [
       "<IPython.core.display.HTML object>"
      ]
     },
     "metadata": {},
     "output_type": "display_data"
    }
   ],
   "source": [
    "setosa = iris[iris['class'] == 'Iris-setosa']\n",
    "versicolor = iris[iris['class'] == 'Iris-versicolor']\n",
    "virginica = iris[iris['class'] == 'Iris-virginica']\n",
    "quality = pd.DataFrame(setosa.count(), columns=['setosa'])\n",
    "quality['versicolor'] = versicolor.count()\n",
    "quality['virginica'] = virginica.count()\n",
    "quality = quality.drop(['sepal_length'])\n",
    "quality = quality.drop(['sepal_width'])\n",
    "quality = quality.drop(['petal_length'])\n",
    "quality = quality.drop(['petal_width'])\n",
    "quality.rename(index={'class': 'amount'}, inplace=True)\n",
    "\n",
    "tmp = pd.DataFrame(setosa.count()/iris.count(), columns=['setosa'])\n",
    "tmp['versicolor'] = versicolor.count()/iris.count()\n",
    "tmp['virginica'] = virginica.count()/iris.count()\n",
    "tmp = tmp.drop(['sepal_length'])\n",
    "tmp = tmp.drop(['sepal_width'])\n",
    "tmp = tmp.drop(['petal_length'])\n",
    "tmp = tmp.drop(['petal_width'])\n",
    "tmp.rename(index={'class': 'frequency'}, inplace=True)\n",
    "\n",
    "quality = quality.append(tmp)\n",
    "print_table(quality.round(2).T)"
   ]
  },
  {
   "cell_type": "markdown",
   "metadata": {},
   "source": [
    "**Macierz korelacji dla cech ilościowych**"
   ]
  },
  {
   "cell_type": "code",
   "execution_count": 5,
   "metadata": {},
   "outputs": [
    {
     "data": {
      "text/html": [
       "<table border=\"1\" class=\"dataframe\">\n",
       "  <thead>\n",
       "    <tr style=\"text-align: right;\">\n",
       "      <th></th>\n",
       "      <th>sepal_length</th>\n",
       "      <th>sepal_width</th>\n",
       "      <th>petal_length</th>\n",
       "      <th>petal_width</th>\n",
       "    </tr>\n",
       "  </thead>\n",
       "  <tbody>\n",
       "    <tr>\n",
       "      <th>sepal_length</th>\n",
       "      <td>1.000</td>\n",
       "      <td>-0.109</td>\n",
       "      <td>0.872</td>\n",
       "      <td>0.818</td>\n",
       "    </tr>\n",
       "    <tr>\n",
       "      <th>sepal_width</th>\n",
       "      <td>-0.109</td>\n",
       "      <td>1.000</td>\n",
       "      <td>-0.421</td>\n",
       "      <td>-0.357</td>\n",
       "    </tr>\n",
       "    <tr>\n",
       "      <th>petal_length</th>\n",
       "      <td>0.872</td>\n",
       "      <td>-0.421</td>\n",
       "      <td>1.000</td>\n",
       "      <td>0.963</td>\n",
       "    </tr>\n",
       "    <tr>\n",
       "      <th>petal_width</th>\n",
       "      <td>0.818</td>\n",
       "      <td>-0.357</td>\n",
       "      <td>0.963</td>\n",
       "      <td>1.000</td>\n",
       "    </tr>\n",
       "  </tbody>\n",
       "</table>"
      ],
      "text/plain": [
       "<IPython.core.display.HTML object>"
      ]
     },
     "metadata": {},
     "output_type": "display_data"
    }
   ],
   "source": [
    "print_table(iris.corr().round(3))"
   ]
  }
 ],
 "metadata": {
  "kernelspec": {
   "display_name": "Python 3",
   "language": "python",
   "name": "python3"
  },
  "language_info": {
   "codemirror_mode": {
    "name": "ipython",
    "version": 3
   },
   "file_extension": ".py",
   "mimetype": "text/x-python",
   "name": "python",
   "nbconvert_exporter": "python",
   "pygments_lexer": "ipython3",
   "version": "3.7.5"
  }
 },
 "nbformat": 4,
 "nbformat_minor": 2
}
