{
 "cells": [
  {
   "cell_type": "markdown",
   "metadata": {},
   "source": [
    "# Zadanie 3\n"
   ]
  },
  {
   "cell_type": "markdown",
   "metadata": {},
   "source": [
    "**Jakub Bogdan 216728  \n",
    "Przemysław Komuda 216802**"
   ]
  },
  {
   "cell_type": "code",
   "execution_count": 3,
   "metadata": {},
   "outputs": [],
   "source": [
    "import pandas as pd\n",
    "import matplotlib.pyplot as plt\n",
    "\n",
    "iris = pd.read_csv(\"iris.data\", names=['sepal_length', 'sepal_width', 'petal_length', 'petal_width', 'class'])\n",
    "\n",
    "\n",
    "quantity = pd.DataFrame(iris.mean().round(3), columns=['mean'])\n",
    "quantity['standard_deviation'] = iris.std().round(3)\n",
    "quantity['median'] = iris.median()\n",
    "quantity['minimum'] = iris.min()\n",
    "quantity['maximum'] = iris.max()"
   ]
  },
  {
   "cell_type": "markdown",
   "metadata": {},
   "source": [
    "**Tabela następujących wartości dla cech ilościowych: średnia arytmetyczna, odchylenie standardowe, mediana, minimum oraz maksimum**"
   ]
  },
  {
   "cell_type": "code",
   "execution_count": 4,
   "metadata": {},
   "outputs": [
    {
     "name": "stdout",
     "output_type": "stream",
     "text": [
      "               mean  standard_deviation  median minimum maximum\n",
      "sepal_length  5.843               0.828    5.80     4.3     7.9\n",
      "sepal_width   3.054               0.434    3.00       2     4.4\n",
      "petal_length  3.759               1.764    4.35       1     6.9\n",
      "petal_width   1.199               0.763    1.30     0.1     2.5\n"
     ]
    }
   ],
   "source": [
    "print(quantity)"
   ]
  },
  {
   "cell_type": "code",
   "execution_count": 6,
   "metadata": {},
   "outputs": [],
   "source": [
    "setosa = iris[iris['class'] == 'Iris-setosa']\n",
    "versicolor = iris[iris['class'] == 'Iris-versicolor']\n",
    "virginica = iris[iris['class'] == 'Iris-virginica']\n",
    "quality = pd.DataFrame(setosa.count(), columns=['setosa'])\n",
    "quality['versicolor'] = versicolor.count()\n",
    "quality['virginica'] = virginica.count()\n",
    "quality = quality.drop(['sepal_length'])\n",
    "quality = quality.drop(['sepal_width'])\n",
    "quality = quality.drop(['petal_length'])\n",
    "quality = quality.drop(['petal_width'])\n",
    "quality.rename(index={'class': 'amount'}, inplace=True)\n",
    "\n",
    "tmp = pd.DataFrame(setosa.count()/iris.count(), columns=['setosa'])\n",
    "tmp['versicolor'] = versicolor.count()/iris.count()\n",
    "tmp['virginica'] = virginica.count()/iris.count()\n",
    "tmp = tmp.drop(['sepal_length'])\n",
    "tmp = tmp.drop(['sepal_width'])\n",
    "tmp = tmp.drop(['petal_length'])\n",
    "tmp = tmp.drop(['petal_width'])\n",
    "tmp.rename(index={'class': 'frequency'}, inplace=True)\n",
    "\n",
    "quality = quality.append(tmp)"
   ]
  },
  {
   "cell_type": "markdown",
   "metadata": {},
   "source": [
    "**Tabela następujących wartości dla cech jakościowych: liczebność oraz częstość**"
   ]
  },
  {
   "cell_type": "code",
   "execution_count": 7,
   "metadata": {},
   "outputs": [
    {
     "name": "stdout",
     "output_type": "stream",
     "text": [
      "              setosa  versicolor  virginica\n",
      "amount     50.000000   50.000000  50.000000\n",
      "frequency   0.333333    0.333333   0.333333\n"
     ]
    }
   ],
   "source": [
    "print(quality)"
   ]
  },
  {
   "cell_type": "markdown",
   "metadata": {},
   "source": [
    "**Macierz korelacji dla cech ilościowych**"
   ]
  },
  {
   "cell_type": "code",
   "execution_count": 8,
   "metadata": {},
   "outputs": [
    {
     "name": "stdout",
     "output_type": "stream",
     "text": [
      "              sepal_length  sepal_width  petal_length  petal_width\n",
      "sepal_length         1.000       -0.109         0.872        0.818\n",
      "sepal_width         -0.109        1.000        -0.421       -0.357\n",
      "petal_length         0.872       -0.421         1.000        0.963\n",
      "petal_width          0.818       -0.357         0.963        1.000\n"
     ]
    }
   ],
   "source": [
    "print(iris.corr().round(3))"
   ]
  },
  {
   "cell_type": "markdown",
   "metadata": {},
   "source": [
    "**Histogramy dla następujących ciech ilościowych: petal_width oraz petal_length**"
   ]
  },
  {
   "cell_type": "code",
   "execution_count": null,
   "metadata": {},
   "outputs": [],
   "source": []
  }
 ],
 "metadata": {
  "kernelspec": {
   "display_name": "Python 3",
   "language": "python",
   "name": "python3"
  },
  "language_info": {
   "codemirror_mode": {
    "name": "ipython",
    "version": 3
   },
   "file_extension": ".py",
   "mimetype": "text/x-python",
   "name": "python",
   "nbconvert_exporter": "python",
   "pygments_lexer": "ipython3",
   "version": "3.7.3"
  }
 },
 "nbformat": 4,
 "nbformat_minor": 2
}
